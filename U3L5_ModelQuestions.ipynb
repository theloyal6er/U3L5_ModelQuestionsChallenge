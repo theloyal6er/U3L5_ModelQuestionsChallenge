{
 "cells": [
  {
   "cell_type": "markdown",
   "metadata": {},
   "source": [
    "### Challenge: U3L5 - What Model Is The Best?\n",
    "\n",
    "#### Jason Paik\n",
    "\n",
    "Questions:\n",
    "\n",
    "\n",
    "1) Predict the running times of prospective Olympic sprinters using data from the last 20 Olympics.\n",
    "- Multivariable Regression: If you have running data between all olympic sprinters from the last 20 olympics, you can build a regression model - with the stats you have - to predict running times going forward. With metrics that have certain coefficient weights across particular variables, all of these variables have a certain bias towards one's running times. Building a regression model with certain coefficient weights, you can build a predicative model that's forward-looking.\n",
    "\n",
    "2) You have more features (columns) than rows in your dataset.\n",
    "- Principal Component Analysis/Boosting: By running PCA, you can see the higher correlated variables, out of the many features you have to deal with, to the outcome you're trying to hone in on and then ultimately trim the data accordingly. By trimming it down to meaningful features, you can maybe run a boosting model with the limited data you have to repeat the small amount of data you have over and over again.\n",
    "\n",
    "3) Identify the most important characteristic predicting likelihood of being jailed before age 20.\n",
    "- Dimensionality Reduction/Partial Least Squares Regression: When you can filter down the features to a more manageable number of features, towards to an outcome variable, we can see the coefficients associated with each of the features. Similarly we can do a correlation heat map to see which feature as the highest importance/correlation. \n",
    "\n",
    "4) Implement a filter to “highlight” emails that might be important to the recipient\n",
    "- Naive Bayes: Using Naive Bayes, you can filter through different words that signify a \"good\" or \"bad\" in a dataframe and then use NB algorithms to filter through the list of emails that might be signify importance or not. \n",
    "\n",
    "5) You have 1000+ features.\n",
    "- Principal Component Analysis, Feature Selection Techniques: With so many features, using PCA or Feature Selection techniques, you can trim the features down to the thirty most important features that might have good correlation towards the outcome column. \n",
    "\n",
    "6) Predict whether someone who adds items to their cart on a website will purchase the items.\n",
    "- Decision Tree: Within decision trees, you can create additional decisions and parameters to the outcome. By creating a \"decision\" that someone added an item into their cart, it might increase or decrease the probability that they might purchase the item - and in that vein, the decision tree can be presented that way and then ran through random forests over and over again.\n",
    "\n",
    "7) Your dataset dimensions are 982400 x 500\n",
    "- Feature Selection/Logistic Regression: Trimming down the 500 columns into more manageable features - i.e. top 30 or so - might better help trim the regression model better. After with so many rows, you can just run the regression model with so much data to come to an accurate model. \n",
    "\n",
    "8) Identify faces in an image.\n",
    "https://www.superdatascience.com/blogs/opencv-face-detection\n"
    "-\n",
    "\n",
    "9) Predict which of three flavors of ice cream will be most popular with boys vs girls.\n",
    "- KNN Classifier - Seeing the popularity between boys and girls between three ice cream flavors, you can run a KNN classifier to see where all the data falls across. Any new data that comes in you can project where that goes to.\n"
   ]
  },
  {
   "cell_type": "code",
   "execution_count": null,
   "metadata": {},
   "outputs": [],
   "source": []
  }
 ],
 "metadata": {
  "kernelspec": {
   "display_name": "Python 3",
   "language": "python",
   "name": "python3"
  },
  "language_info": {
   "codemirror_mode": {
    "name": "ipython",
    "version": 3
   },
   "file_extension": ".py",
   "mimetype": "text/x-python",
   "name": "python",
   "nbconvert_exporter": "python",
   "pygments_lexer": "ipython3",
   "version": "3.7.0"
  }
 },
 "nbformat": 4,
 "nbformat_minor": 2
}
